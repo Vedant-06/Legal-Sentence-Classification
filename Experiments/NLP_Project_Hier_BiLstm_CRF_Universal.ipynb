{
  "nbformat": 4,
  "nbformat_minor": 0,
  "metadata": {
    "colab": {
      "name": "NLP - Project - Hier-BiLstm-CRF-Universal",
      "provenance": []
    },
    "kernelspec": {
      "name": "python3",
      "display_name": "Python 3"
    },
    "accelerator": "GPU"
  },
  "cells": [
    {
      "cell_type": "code",
      "metadata": {
        "id": "itPPAjDABfly",
        "colab_type": "code",
        "outputId": "2642eb3b-6b72-430f-ee2c-70f8c7e52e33",
        "colab": {
          "base_uri": "https://localhost:8080/",
          "height": 34
        }
      },
      "source": [
        "from google.colab import drive\n",
        "drive.mount('/content/drive')"
      ],
      "execution_count": 0,
      "outputs": [
        {
          "output_type": "stream",
          "text": [
            "Drive already mounted at /content/drive; to attempt to forcibly remount, call drive.mount(\"/content/drive\", force_remount=True).\n"
          ],
          "name": "stdout"
        }
      ]
    },
    {
      "cell_type": "code",
      "metadata": {
        "id": "zkW7eeYYddLM",
        "colab_type": "code",
        "outputId": "fbce56c6-209c-48c8-aed6-da06875f250c",
        "colab": {
          "base_uri": "https://localhost:8080/",
          "height": 34
        }
      },
      "source": [
        "%cd /content/drive/My Drive/PROJECT - NLP/semantic-segmentation/"
      ],
      "execution_count": 0,
      "outputs": [
        {
          "output_type": "stream",
          "text": [
            "/content/drive/My Drive/PROJECT - NLP/semantic-segmentation\n"
          ],
          "name": "stdout"
        }
      ]
    },
    {
      "cell_type": "code",
      "metadata": {
        "id": "Iqrw8lcVd-06",
        "colab_type": "code",
        "outputId": "776c3636-adc0-4170-d001-b91085d99ab3",
        "colab": {
          "base_uri": "https://localhost:8080/",
          "height": 1000
        }
      },
      "source": [
        "!python run.py --pretrained True --data_path ./data/text/pretrained-embeddings/ --save_path ./saved/ --emb_dim 512 --num_folds 5 --epochs 300"
      ],
      "execution_count": 0,
      "outputs": [
        {
          "output_type": "stream",
          "text": [
            "\n",
            "Preparing data ... Done\n",
            "Vocabulary size: 2\n",
            "#Tags: 10\n",
            "\n",
            "Cross-validation\n",
            "\n",
            "\n",
            "Initializing model ... Done\n",
            "\n",
            "Evaluating on fold 0 ...\n",
            "  EPOCH     Tr_LOSS   Tr_F1    Val_LOSS  Val_F1\n",
            "-----------------------------------------------------------\n",
            "     10    4957.610   0.259    2472.536   0.199\n",
            "     20    3199.360   0.495    1759.459   0.449\n",
            "     30    2411.902   0.600    1746.620   0.454\n",
            "     40    1804.294   0.654    1551.018   0.485\n",
            "     50    1382.461   0.750    1555.759   0.463\n",
            "     60    1151.431   0.834    1526.924   0.539\n",
            "     70    1144.256   0.814    1531.262   0.455\n",
            "     80     839.650   0.887    1616.766   0.499\n",
            "     90     674.081   0.924    1702.667   0.489\n",
            "    100     707.749   0.906    1705.564   0.504\n",
            "    110     498.339   0.940    1958.319   0.499\n",
            "    120     413.202   0.953    2171.772   0.489\n",
            "    130     332.223   0.959    2241.676   0.499\n",
            "    140    1780.289   0.674    1752.284   0.486\n",
            "    150     750.201   0.893    1456.305   0.492\n",
            "    160     492.056   0.938    1727.831   0.497\n",
            "    170     377.415   0.959    1919.260   0.501\n",
            "    180     301.645   0.966    2054.014   0.515\n",
            "    190     234.555   0.973    2260.440   0.520\n",
            "    200     186.412   0.981    2406.069   0.514\n",
            "    210     164.757   0.987    2529.835   0.511\n",
            "    220     121.408   0.990    2769.624   0.526\n",
            "    230     107.417   0.991    2835.190   0.527\n",
            "    240      81.076   0.994    3168.314   0.496\n",
            "    250      70.265   0.996    3193.244   0.508\n",
            "    260      57.773   0.995    3411.085   0.501\n",
            "    270      42.933   0.998    3562.225   0.487\n",
            "    280      42.678   0.997    3578.308   0.487\n",
            "    290      35.202   0.998    3611.943   0.507\n",
            "    300      38.798   0.997    3876.083   0.487\n",
            "Dumping model and data ... Done\n",
            "Time taken: 637 secs\n",
            "                         precision    recall  f1-score   support\n",
            "\n",
            "                  Facts      0.571     0.723     0.638       487\n",
            "               Argument      0.415     0.330     0.367       185\n",
            "  Ratio of the decision      0.569     0.600     0.584       658\n",
            "                Statute      0.740     0.790     0.764       119\n",
            "              Precedent      0.680     0.484     0.565       246\n",
            "Ruling by Present Court      0.848     0.583     0.691        48\n",
            "  Ruling by Lower Court      0.346     0.120     0.178        75\n",
            "\n",
            "               accuracy                          0.582      1818\n",
            "              macro avg      0.596     0.519     0.541      1818\n",
            "           weighted avg      0.578     0.582     0.572      1818\n",
            "\n",
            "\n",
            "Initializing model ... Done\n",
            "\n",
            "Evaluating on fold 1 ...\n",
            "  EPOCH     Tr_LOSS   Tr_F1    Val_LOSS  Val_F1\n",
            "-----------------------------------------------------------\n",
            "     10    5262.515   0.192    1980.379   0.175\n",
            "     20    3478.022   0.480    1502.487   0.424\n",
            "     30    2584.614   0.581    1315.557   0.512\n",
            "     40    2012.113   0.658    1187.056   0.499\n",
            "     50    1512.906   0.754    1148.139   0.519\n",
            "     60    1362.283   0.801    1147.808   0.506\n",
            "     70    1075.964   0.841    1213.844   0.538\n",
            "     80     946.580   0.857    1293.171   0.509\n",
            "     90     748.048   0.897    1286.120   0.531\n",
            "    100     631.109   0.921    1546.329   0.513\n",
            "    110    1368.774   0.677    1149.641   0.490\n",
            "    120     853.634   0.874    1325.656   0.514\n",
            "    130     663.124   0.910    1382.913   0.538\n",
            "    140     548.447   0.925    1533.799   0.569\n",
            "    150     463.045   0.945    1624.481   0.542\n",
            "    160     384.015   0.955    1652.735   0.570\n",
            "    170     350.814   0.954    1738.053   0.542\n",
            "    180     313.567   0.965    1847.263   0.528\n",
            "    190     259.377   0.971    1954.140   0.568\n",
            "    200     219.989   0.978    2033.664   0.552\n",
            "    210     175.336   0.984    2288.903   0.551\n",
            "    220     164.488   0.982    2142.000   0.553\n",
            "    230     117.552   0.990    2372.785   0.546\n",
            "    240      96.804   0.993    2333.871   0.539\n",
            "    250      92.242   0.992    2742.842   0.521\n",
            "    260      75.131   0.995    2527.767   0.536\n",
            "    270      64.706   0.996    2679.215   0.525\n",
            "    280      46.059   0.997    2734.801   0.520\n",
            "    290      49.869   0.996    2791.623   0.515\n",
            "    300      83.240   0.991    2465.094   0.521\n",
            "Dumping model and data ... Done\n",
            "Time taken: 611 secs\n",
            "                         precision    recall  f1-score   support\n",
            "\n",
            "                  Facts      0.830     0.679     0.747       480\n",
            "               Argument      0.603     0.598     0.601       117\n",
            "  Ratio of the decision      0.533     0.834     0.650       477\n",
            "                Statute      0.818     0.643     0.720        98\n",
            "              Precedent      0.755     0.417     0.537       259\n",
            "Ruling by Present Court      0.897     0.500     0.642        70\n",
            "  Ruling by Lower Court      0.750     0.167     0.273        18\n",
            "\n",
            "               accuracy                          0.660      1519\n",
            "              macro avg      0.741     0.548     0.596      1519\n",
            "           weighted avg      0.708     0.660     0.657      1519\n",
            "\n",
            "\n",
            "Initializing model ... Done\n",
            "\n",
            "Evaluating on fold 2 ...\n",
            "  EPOCH     Tr_LOSS   Tr_F1    Val_LOSS  Val_F1\n",
            "-----------------------------------------------------------\n",
            "     10    4262.761   0.322    2444.860   0.355\n",
            "     20    2674.335   0.558    2413.448   0.354\n",
            "     30    2015.248   0.645    2037.073   0.439\n",
            "     40    1564.505   0.749    1605.302   0.512\n",
            "     50    1307.196   0.746    2002.380   0.491\n",
            "     60     946.818   0.861    1845.313   0.493\n",
            "     70     772.400   0.896    2771.864   0.467\n",
            "     80    1660.131   0.619    1456.265   0.512\n",
            "     90    1128.599   0.769    1496.827   0.474\n",
            "    100     868.621   0.865    1565.369   0.511\n",
            "    110     742.225   0.892    1662.461   0.526\n",
            "    120     687.756   0.871    1920.694   0.503\n",
            "    130     560.797   0.922    2019.101   0.484\n",
            "    140     460.946   0.938    2320.397   0.490\n",
            "    150     410.331   0.939    2403.874   0.496\n",
            "    160     422.771   0.925    2127.462   0.512\n",
            "    170     312.283   0.960    2596.864   0.505\n",
            "    180     246.455   0.967    2703.490   0.495\n",
            "    190     204.860   0.974    2953.437   0.486\n",
            "    200     160.184   0.983    3208.642   0.477\n",
            "    210     127.520   0.986    3380.405   0.495\n",
            "    220     125.031   0.985    3428.107   0.483\n",
            "    230      98.457   0.991    3674.411   0.464\n",
            "    240      71.267   0.994    3714.929   0.478\n",
            "    250      63.129   0.994    3828.401   0.469\n",
            "    260      49.367   0.997    3852.508   0.478\n",
            "    270      45.768   0.995    4103.615   0.458\n",
            "    280      41.667   0.995    4201.319   0.460\n",
            "    290      35.534   0.998    4208.461   0.470\n",
            "    300      28.900   0.999    4228.543   0.466\n",
            "Dumping model and data ... Done\n",
            "Time taken: 565 secs\n",
            "                         precision    recall  f1-score   support\n",
            "\n",
            "                  Facts      0.760     0.803     0.781       544\n",
            "               Argument      0.538     0.208     0.300       202\n",
            "  Ratio of the decision      0.730     0.706     0.718       949\n",
            "                Statute      0.714     0.342     0.462       117\n",
            "              Precedent      0.370     0.887     0.522       186\n",
            "Ruling by Present Court      0.771     0.643     0.701        42\n",
            "  Ruling by Lower Court      0.941     0.188     0.314        85\n",
            "\n",
            "               accuracy                          0.657      2125\n",
            "              macro avg      0.689     0.540     0.543      2125\n",
            "           weighted avg      0.696     0.657     0.647      2125\n",
            "\n",
            "\n",
            "Initializing model ... Done\n",
            "\n",
            "Evaluating on fold 3 ...\n",
            "  EPOCH     Tr_LOSS   Tr_F1    Val_LOSS  Val_F1\n",
            "-----------------------------------------------------------\n",
            "     10    4835.912   0.220    3073.643   0.232\n",
            "     20    3349.406   0.364    2061.038   0.355\n",
            "     30    2524.934   0.543    1584.245   0.467\n",
            "     40    1893.593   0.654    1342.177   0.590\n",
            "     50    1476.105   0.726    1322.446   0.596\n",
            "     60    1537.235   0.735    1462.342   0.537\n",
            "     70    1175.387   0.799    1319.530   0.593\n",
            "     80     976.747   0.849    1332.708   0.584\n",
            "     90     860.099   0.864    1449.651   0.603\n",
            "    100     715.926   0.900    1504.067   0.614\n",
            "    110     900.648   0.845    1526.055   0.589\n",
            "    120     637.212   0.902    1532.840   0.595\n",
            "    130     553.047   0.926    1664.723   0.583\n",
            "    140     458.157   0.934    1772.893   0.594\n",
            "    150     394.618   0.945    1928.394   0.572\n",
            "    160     356.843   0.952    2180.217   0.529\n",
            "    170     326.006   0.955    2334.675   0.567\n",
            "    180     274.763   0.960    2200.954   0.567\n",
            "    190     239.623   0.969    2622.598   0.527\n",
            "    200     198.323   0.978    2358.966   0.571\n",
            "    210     170.064   0.978    2320.395   0.577\n",
            "    220     154.770   0.980    2631.910   0.578\n",
            "    230     122.012   0.986    2753.529   0.570\n",
            "    240     101.441   0.993    3028.829   0.562\n",
            "    250      97.809   0.991    2963.005   0.549\n",
            "    260      81.217   0.993    3044.333   0.546\n",
            "    270      66.003   0.995    3248.782   0.579\n",
            "    280      63.417   0.996    3020.235   0.574\n",
            "    290      56.135   0.996    3335.657   0.570\n",
            "    300      47.535   0.997    3274.173   0.568\n",
            "Dumping model and data ... Done\n",
            "Time taken: 608 secs\n",
            "                         precision    recall  f1-score   support\n",
            "\n",
            "                  Facts      0.632     0.847     0.724       294\n",
            "               Argument      0.611     0.660     0.634       188\n",
            "  Ratio of the decision      0.669     0.774     0.718       736\n",
            "                Statute      0.745     0.721     0.733       251\n",
            "              Precedent      0.907     0.640     0.751       475\n",
            "Ruling by Present Court      0.867     0.605     0.712        43\n",
            "  Ruling by Lower Court      0.900     0.113     0.200        80\n",
            "\n",
            "               accuracy                          0.708      2067\n",
            "              macro avg      0.762     0.623     0.639      2067\n",
            "           weighted avg      0.736     0.708     0.700      2067\n",
            "\n",
            "\n",
            "Initializing model ... Done\n",
            "\n",
            "Evaluating on fold 4 ...\n",
            "  EPOCH     Tr_LOSS   Tr_F1    Val_LOSS  Val_F1\n",
            "-----------------------------------------------------------\n",
            "     10    5077.497   0.258    2324.452   0.244\n",
            "     20    3602.002   0.315    1853.857   0.305\n",
            "     30    2626.547   0.506    1527.212   0.466\n",
            "     40    2108.268   0.564    1301.969   0.533\n",
            "     50    1558.230   0.711    1247.286   0.539\n",
            "     60    1328.650   0.772    1356.929   0.496\n",
            "     70    1134.062   0.806    1211.824   0.555\n",
            "     80     888.748   0.877    1342.297   0.532\n",
            "     90     770.711   0.897    1316.427   0.535\n",
            "    100    1202.039   0.769    1280.378   0.536\n",
            "    110     711.450   0.895    1455.368   0.527\n",
            "    120     579.677   0.923    1506.061   0.558\n",
            "    130     479.104   0.942    1628.689   0.525\n",
            "    140     420.010   0.953    1721.052   0.526\n",
            "    150     431.147   0.940    1766.700   0.541\n",
            "    160     335.644   0.963    1845.182   0.560\n",
            "    170     284.037   0.967    1880.059   0.550\n",
            "    180     235.391   0.977    2019.456   0.554\n",
            "    190     217.778   0.978    2151.747   0.509\n",
            "    200     171.642   0.986    2262.435   0.552\n",
            "    210     167.421   0.983    2415.481   0.545\n",
            "    220     118.253   0.989    2485.404   0.541\n",
            "    230     100.153   0.993    2571.533   0.533\n",
            "    240      88.795   0.993    2510.576   0.538\n",
            "    250      77.954   0.992    2758.429   0.548\n",
            "    260      86.087   0.993    2785.986   0.546\n",
            "    270      61.226   0.996    2872.618   0.522\n",
            "    280      55.237   0.996    2823.011   0.547\n",
            "    290      45.797   0.997    2939.287   0.534\n",
            "    300      46.810   0.997    2993.603   0.554\n",
            "Dumping model and data ... Done\n",
            "Time taken: 608 secs\n",
            "                         precision    recall  f1-score   support\n",
            "\n",
            "                  Facts      0.689     0.710     0.699       414\n",
            "               Argument      0.598     0.441     0.508       152\n",
            "  Ratio of the decision      0.661     0.729     0.693       804\n",
            "                Statute      0.618     0.557     0.586        61\n",
            "              Precedent      0.646     0.586     0.615       302\n",
            "Ruling by Present Court      0.905     0.644     0.752        59\n",
            "  Ruling by Lower Court      0.208     0.193     0.200        57\n",
            "\n",
            "               accuracy                          0.653      1849\n",
            "              macro avg      0.618     0.551     0.579      1849\n",
            "           weighted avg      0.652     0.653     0.650      1849\n",
            "\n"
          ],
          "name": "stdout"
        }
      ]
    },
    {
      "cell_type": "code",
      "metadata": {
        "id": "upTq2xFyHelc",
        "colab_type": "code",
        "colab": {}
      },
      "source": [
        "import pandas as pd\n",
        "import matplotlib.pyplot as plt\n",
        "\n",
        "df = pd.read_csv(\"./data.csv\")"
      ],
      "execution_count": 0,
      "outputs": []
    },
    {
      "cell_type": "code",
      "metadata": {
        "id": "n6FK5Un2SDen",
        "colab_type": "code",
        "outputId": "5dcad9eb-d90d-4826-8873-3060bd158fad",
        "colab": {
          "base_uri": "https://localhost:8080/",
          "height": 282
        }
      },
      "source": [
        "plt.plot(df['t_l'])\n",
        "plt.plot(df['v_l'])"
      ],
      "execution_count": 0,
      "outputs": [
        {
          "output_type": "execute_result",
          "data": {
            "text/plain": [
              "[<matplotlib.lines.Line2D at 0x7f18445efb38>]"
            ]
          },
          "metadata": {
            "tags": []
          },
          "execution_count": 6
        },
        {
          "output_type": "display_data",
          "data": {
            "image/png": "[encoded data removed]",
            "text/plain": [
              "<Figure size 432x288 with 1 Axes>"
            ]
          },
          "metadata": {
            "tags": [],
            "needs_background": "light"
          }
        }
      ]
    },
    {
      "cell_type": "code",
      "metadata": {
        "id": "tkEgM6oicFgH",
        "colab_type": "code",
        "colab": {}
      },
      "source": [
        "\n"
      ],
      "execution_count": 0,
      "outputs": []
    }
  ]
}