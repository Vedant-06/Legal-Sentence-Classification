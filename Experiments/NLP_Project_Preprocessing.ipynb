{
  "nbformat": 4,
  "nbformat_minor": 0,
  "metadata": {
    "colab": {
      "name": "NLP-Project-Preprocessing.ipynb",
      "provenance": []
    },
    "kernelspec": {
      "name": "python3",
      "display_name": "Python 3"
    }
  },
  "cells": [
    {
      "cell_type": "code",
      "metadata": {
        "id": "i6ALYkOuyIl8",
        "colab_type": "code",
        "outputId": "2b58826f-cb68-4b2e-8215-06ee4a3c211e",
        "colab": {
          "base_uri": "https://localhost:8080/",
          "height": 122
        }
      },
      "source": [
        "from google.colab import drive\n",
        "drive.mount('/content/drive')"
      ],
      "execution_count": 0,
      "outputs": [
        {
          "output_type": "stream",
          "text": [
            "Go to this URL in a browser: https://accounts.google.com/o/oauth2/auth?client_id=947318989803-6bn6qk8qdgf4n4g3pfee6491hc0brc4i.apps.googleusercontent.com&redirect_uri=urn%3aietf%3awg%3aoauth%3a2.0%3aoob&response_type=code&scope=email%20https%3a%2f%2fwww.googleapis.com%2fauth%2fdocs.test%20https%3a%2f%2fwww.googleapis.com%2fauth%2fdrive%20https%3a%2f%2fwww.googleapis.com%2fauth%2fdrive.photos.readonly%20https%3a%2f%2fwww.googleapis.com%2fauth%2fpeopleapi.readonly\n",
            "\n",
            "Enter your authorization code:\n",
            "··········\n",
            "Mounted at /content/drive\n"
          ],
          "name": "stdout"
        }
      ]
    },
    {
      "cell_type": "code",
      "metadata": {
        "id": "Arq_EO4xyM2F",
        "colab_type": "code",
        "outputId": "98d0249a-e2c0-4c7d-84ce-b765ea94b21f",
        "colab": {
          "base_uri": "https://localhost:8080/",
          "height": 34
        }
      },
      "source": [
        "%cd /content/drive/My Drive/PROJECT - NLP/semantic-segmentation/data/text/files"
      ],
      "execution_count": 0,
      "outputs": [
        {
          "output_type": "stream",
          "text": [
            "/content/drive/My Drive/PROJECT - NLP/semantic-segmentation/data/text/files\n"
          ],
          "name": "stdout"
        }
      ]
    },
    {
      "cell_type": "code",
      "metadata": {
        "id": "xV05L0IrynDz",
        "colab_type": "code",
        "colab": {}
      },
      "source": [
        "import spacy\n",
        "from spacy import displacy\n",
        "from collections import Counter\n",
        "import en_core_web_sm\n",
        "nlp = en_core_web_sm.load()"
      ],
      "execution_count": 0,
      "outputs": []
    },
    {
      "cell_type": "code",
      "metadata": {
        "id": "QQhcXF4-1aqC",
        "colab_type": "code",
        "colab": {}
      },
      "source": [
        "import os\n",
        "import io\n",
        "import re\n",
        "import pandas as pd"
      ],
      "execution_count": 0,
      "outputs": []
    },
    {
      "cell_type": "code",
      "metadata": {
        "id": "EhoLEC4a1Uyp",
        "colab_type": "code",
        "colab": {}
      },
      "source": [
        "sent = []\n",
        "classes = []\n",
        "sent1 = []\n",
        "sent2 = []\n",
        "sent3 = []\n",
        "\n",
        "for filename in os.listdir():\n",
        "  with io.open(filename,'r') as f:\n",
        "    file = f.read()\n",
        "  for i in range(len(file.split('\\n'))):\n",
        "    if len(file.split('\\n')[i].split('\\t')) == 2:\n",
        "      s = file.split('\\n')[i].split('\\t')[0]\n",
        "      s1 = re.sub(r'[^\\w\\s]','',s)\n",
        "      sent.append(s)\n",
        "      sent3.append(s1)\n",
        "      doc = nlp(s)\n",
        "      for X in doc.ents:\n",
        "        s = s.replace(X.text,X.label_)\n",
        "      sent1.append(s.replace(X.text,X.label_))\n",
        "      classes.append(file.split('\\n')[i].split('\\t')[1])\n",
        "\n",
        "dic = {'Sentence':sent,'Sent_NER':sent1,'Class':classes}\n",
        "df = pd.DataFrame(dic)\n",
        "dic = {'Sentence':sent,'Sent_Without_Pun':sent3,'Class':classes}\n",
        "df2 = pd.DataFrame(dic)"
      ],
      "execution_count": 0,
      "outputs": []
    },
    {
      "cell_type": "code",
      "metadata": {
        "id": "320BPRPJ6On1",
        "colab_type": "code",
        "outputId": "df08a589-3628-488b-951a-12776efe60d3",
        "colab": {
          "base_uri": "https://localhost:8080/",
          "height": 34
        }
      },
      "source": [
        "from sklearn.preprocessing import LabelEncoder\n",
        "enc = LabelEncoder()\n",
        "enc.fit(classes)"
      ],
      "execution_count": 0,
      "outputs": [
        {
          "output_type": "execute_result",
          "data": {
            "text/plain": [
              "LabelEncoder()"
            ]
          },
          "metadata": {
            "tags": []
          },
          "execution_count": 7
        }
      ]
    },
    {
      "cell_type": "code",
      "metadata": {
        "id": "VljU06_UFz_O",
        "colab_type": "code",
        "outputId": "b5157894-304c-4c73-a13d-b132980135a7",
        "colab": {
          "base_uri": "https://localhost:8080/",
          "height": 68
        }
      },
      "source": [
        "enc.classes_"
      ],
      "execution_count": 0,
      "outputs": [
        {
          "output_type": "execute_result",
          "data": {
            "text/plain": [
              "array(['Argument', 'Facts', 'Precedent', 'Ratio of the decision',\n",
              "       'Ruling by Lower Court', 'Ruling by Present Court', 'Statute'],\n",
              "      dtype='<U23')"
            ]
          },
          "metadata": {
            "tags": []
          },
          "execution_count": 8
        }
      ]
    },
    {
      "cell_type": "code",
      "metadata": {
        "id": "1EDMiHtD-X2R",
        "colab_type": "code",
        "colab": {}
      },
      "source": [
        "classes = enc.transform(classes)"
      ],
      "execution_count": 0,
      "outputs": []
    },
    {
      "cell_type": "code",
      "metadata": {
        "id": "R9ZPPf2_-u2K",
        "colab_type": "code",
        "colab": {}
      },
      "source": [
        "df = pd.concat([df,pd.DataFrame(list(classes))],axis = 1)"
      ],
      "execution_count": 0,
      "outputs": []
    },
    {
      "cell_type": "code",
      "metadata": {
        "id": "4VffoNHpC1RE",
        "colab_type": "code",
        "outputId": "83da5ffa-6453-420f-a864-b81d226fa9b0",
        "colab": {
          "base_uri": "https://localhost:8080/",
          "height": 279
        }
      },
      "source": [
        "max_len = []\n",
        "for X in df['Sentence']:\n",
        "  max_len.append(len(X.split()))\n",
        "import seaborn as sns\n",
        "ax = sns.distplot(max_len, hist=True, kde=False,bins=int(30), color = 'blue',hist_kws={'edgecolor':'black'})\n",
        "ax.set(xlabel=\"Length of Sentences\", ylabel = \"Number of Sentences\")\n",
        "ax.axes.get_yaxis().set_visible(False)\n",
        "#ax.axes.get_xaxis().set_visible(False)"
      ],
      "execution_count": 0,
      "outputs": [
        {
          "output_type": "display_data",
          "data": {
            "image/png": "[encoded data removed]",
            "text/plain": [
              "<Figure size 432x288 with 1 Axes>"
            ]
          },
          "metadata": {
            "tags": [],
            "needs_background": "light"
          }
        }
      ]
    },
    {
      "cell_type": "code",
      "metadata": {
        "id": "MQcpuFgJZA0p",
        "colab_type": "code",
        "colab": {}
      },
      "source": [
        "for X in df['Sentence']:\n",
        "  max_len.append(len(X.split()))"
      ],
      "execution_count": 0,
      "outputs": []
    },
    {
      "cell_type": "code",
      "metadata": {
        "id": "0vlP1Vv7ZFNJ",
        "colab_type": "code",
        "outputId": "a9720cde-5f3d-4278-a99b-7ea190f108e6",
        "colab": {
          "base_uri": "https://localhost:8080/",
          "height": 279
        }
      },
      "source": [
        "import seaborn as sns\n",
        "ax = sns.distplot(max_len, hist=True, kde=False,bins=int(30), color = 'blue',hist_kws={'edgecolor':'black'})\n",
        "ax.set(xlabel=\"Length of Sentences\", ylabel = \"Number of Sentences\")\n",
        "#ax.axes.get_yaxis().set_visible(False)\n",
        "#ax.axes.get_xaxis().set_visible(False)\n",
        "fig = ax.get_figure()\n",
        "fig.savefig(\"/content/drive/My Drive/PROJECT - NLP/semantic-segmentation/output.png\")"
      ],
      "execution_count": 0,
      "outputs": [
        {
          "output_type": "display_data",
          "data": {
            "image/png": "[encoded data removed]",
            "text/plain": [
              "<Figure size 432x288 with 1 Axes>"
            ]
          },
          "metadata": {
            "tags": [],
            "needs_background": "light"
          }
        }
      ]
    },
    {
      "cell_type": "code",
      "metadata": {
        "id": "UKUHDbpnCxiM",
        "colab_type": "code",
        "colab": {}
      },
      "source": [
        "isLong = []\n",
        "for X in df['Sent_NER']:\n",
        "  if len(X.split()) >= 130:\n",
        "    isLong.append(True)\n",
        "  else:\n",
        "    isLong.append(False)\n",
        "df['isLong'] = pd.DataFrame(isLong)"
      ],
      "execution_count": 0,
      "outputs": []
    },
    {
      "cell_type": "code",
      "metadata": {
        "id": "a8MRy0eXDhDe",
        "colab_type": "code",
        "colab": {}
      },
      "source": [
        "df.columns = ['Sentence','Sent_NER','Classes','Label','isLong']"
      ],
      "execution_count": 0,
      "outputs": []
    },
    {
      "cell_type": "code",
      "metadata": {
        "id": "6NomJGIDGE-2",
        "colab_type": "code",
        "colab": {}
      },
      "source": [
        "df = pd.read_csv('file2.csv')"
      ],
      "execution_count": 0,
      "outputs": []
    },
    {
      "cell_type": "code",
      "metadata": {
        "id": "U9OZvqu1ffOE",
        "colab_type": "code",
        "colab": {}
      },
      "source": [
        "num = df['Classes'].value_counts().to_frame()\n",
        "num.columns = ['Number of Sentences']"
      ],
      "execution_count": 0,
      "outputs": []
    },
    {
      "cell_type": "code",
      "metadata": {
        "id": "9VFqlYP0GPAx",
        "colab_type": "code",
        "outputId": "a7a55438-17ac-4cef-a300-02ff68c5f470",
        "colab": {
          "base_uri": "https://localhost:8080/",
          "height": 266
        }
      },
      "source": [
        "num"
      ],
      "execution_count": 0,
      "outputs": [
        {
          "output_type": "execute_result",
          "data": {
            "text/html": [
              "<div>\n",
              "<style scoped>\n",
              "    .dataframe tbody tr th:only-of-type {\n",
              "        vertical-align: middle;\n",
              "    }\n",
              "\n",
              "    .dataframe tbody tr th {\n",
              "        vertical-align: top;\n",
              "    }\n",
              "\n",
              "    .dataframe thead th {\n",
              "        text-align: right;\n",
              "    }\n",
              "</style>\n",
              "<table border=\"1\" class=\"dataframe\">\n",
              "  <thead>\n",
              "    <tr style=\"text-align: right;\">\n",
              "      <th></th>\n",
              "      <th>Number of Sentences</th>\n",
              "    </tr>\n",
              "  </thead>\n",
              "  <tbody>\n",
              "    <tr>\n",
              "      <th>Ratio of the decision</th>\n",
              "      <td>3624</td>\n",
              "    </tr>\n",
              "    <tr>\n",
              "      <th>Facts</th>\n",
              "      <td>2219</td>\n",
              "    </tr>\n",
              "    <tr>\n",
              "      <th>Precedent</th>\n",
              "      <td>1468</td>\n",
              "    </tr>\n",
              "    <tr>\n",
              "      <th>Argument</th>\n",
              "      <td>844</td>\n",
              "    </tr>\n",
              "    <tr>\n",
              "      <th>Statute</th>\n",
              "      <td>646</td>\n",
              "    </tr>\n",
              "    <tr>\n",
              "      <th>Ruling by Lower Court</th>\n",
              "      <td>315</td>\n",
              "    </tr>\n",
              "    <tr>\n",
              "      <th>Ruling by Present Court</th>\n",
              "      <td>262</td>\n",
              "    </tr>\n",
              "  </tbody>\n",
              "</table>\n",
              "</div>"
            ],
            "text/plain": [
              "                         Number of Sentences\n",
              "Ratio of the decision                   3624\n",
              "Facts                                   2219\n",
              "Precedent                               1468\n",
              "Argument                                 844\n",
              "Statute                                  646\n",
              "Ruling by Lower Court                    315\n",
              "Ruling by Present Court                  262"
            ]
          },
          "metadata": {
            "tags": []
          },
          "execution_count": 27
        }
      ]
    },
    {
      "cell_type": "code",
      "metadata": {
        "id": "S1mdFhFzCWyZ",
        "colab_type": "code",
        "colab": {}
      },
      "source": [
        "sent = []\n",
        "classes = []\n",
        "fil1 = []\n",
        "\n",
        "for filename in os.listdir():\n",
        "  with io.open(filename,'r') as f:\n",
        "    file = f.read()\n",
        "  for i in range(len(file.split('\\n'))):\n",
        "    if len(file.split('\\n')[i].split('\\t')) == 2:\n",
        "      s = file.split('\\n')[i].split('\\t')[0]\n",
        "      sent.append(s)\n",
        "      classes.append(file.split('\\n')[i].split('\\t')[1])\n",
        "      fil1.append(filename)\n",
        "\n",
        "dic = {'Sentence':sent,'filename':fil1,'Class':classes}\n",
        "df = pd.DataFrame(dic)"
      ],
      "execution_count": 0,
      "outputs": []
    },
    {
      "cell_type": "code",
      "metadata": {
        "id": "q6WBoLUJEZ-5",
        "colab_type": "code",
        "colab": {}
      },
      "source": [
        "df = pd.read_csv('file3.csv')"
      ],
      "execution_count": 0,
      "outputs": []
    },
    {
      "cell_type": "code",
      "metadata": {
        "id": "DRR4s-JiEqlt",
        "colab_type": "code",
        "outputId": "350473aa-2798-4a41-8330-3ef89642b0fb",
        "colab": {
          "base_uri": "https://localhost:8080/",
          "height": 34
        }
      },
      "source": [
        "%cd ./pretrained-embeddings"
      ],
      "execution_count": 0,
      "outputs": [
        {
          "output_type": "stream",
          "text": [
            "/content/drive/My Drive/PROJECT - NLP/semantic-segmentation/data/text/pretrained-embeddings\n"
          ],
          "name": "stdout"
        }
      ]
    },
    {
      "cell_type": "code",
      "metadata": {
        "id": "RyPiDxObg-lr",
        "colab_type": "code",
        "outputId": "21fdb47a-7c43-4f44-826d-24f16c30a1ce",
        "colab": {
          "base_uri": "https://localhost:8080/",
          "height": 419
        }
      },
      "source": [
        "df"
      ],
      "execution_count": 0,
      "outputs": [
        {
          "output_type": "execute_result",
          "data": {
            "text/html": [
              "<div>\n",
              "<style scoped>\n",
              "    .dataframe tbody tr th:only-of-type {\n",
              "        vertical-align: middle;\n",
              "    }\n",
              "\n",
              "    .dataframe tbody tr th {\n",
              "        vertical-align: top;\n",
              "    }\n",
              "\n",
              "    .dataframe thead th {\n",
              "        text-align: right;\n",
              "    }\n",
              "</style>\n",
              "<table border=\"1\" class=\"dataframe\">\n",
              "  <thead>\n",
              "    <tr style=\"text-align: right;\">\n",
              "      <th></th>\n",
              "      <th>Unnamed: 0</th>\n",
              "      <th>Sentence</th>\n",
              "      <th>filename</th>\n",
              "      <th>Class</th>\n",
              "    </tr>\n",
              "  </thead>\n",
              "  <tbody>\n",
              "    <tr>\n",
              "      <th>0</th>\n",
              "      <td>0</td>\n",
              "      <td>This appeal with special leave is directed aga...</td>\n",
              "      <td>1954_M_25.txt</td>\n",
              "      <td>Facts</td>\n",
              "    </tr>\n",
              "    <tr>\n",
              "      <th>1</th>\n",
              "      <td>1</td>\n",
              "      <td>During the year 1948 the appellant made a prof...</td>\n",
              "      <td>1954_M_25.txt</td>\n",
              "      <td>Facts</td>\n",
              "    </tr>\n",
              "    <tr>\n",
              "      <th>2</th>\n",
              "      <td>2</td>\n",
              "      <td>11,97,648-11-9</td>\n",
              "      <td>1954_M_25.txt</td>\n",
              "      <td>Facts</td>\n",
              "    </tr>\n",
              "    <tr>\n",
              "      <th>3</th>\n",
              "      <td>3</td>\n",
              "      <td>It paid 24 3 per cent</td>\n",
              "      <td>1954_M_25.txt</td>\n",
              "      <td>Facts</td>\n",
              "    </tr>\n",
              "    <tr>\n",
              "      <th>4</th>\n",
              "      <td>4</td>\n",
              "      <td>dividend on ordinary shares, being the maximum...</td>\n",
              "      <td>1954_M_25.txt</td>\n",
              "      <td>Facts</td>\n",
              "    </tr>\n",
              "    <tr>\n",
              "      <th>...</th>\n",
              "      <td>...</td>\n",
              "      <td>...</td>\n",
              "      <td>...</td>\n",
              "      <td>...</td>\n",
              "    </tr>\n",
              "    <tr>\n",
              "      <th>9373</th>\n",
              "      <td>9373</td>\n",
              "      <td>We find no infirmity in the impugned order pas...</td>\n",
              "      <td>2015_S_368.txt</td>\n",
              "      <td>Ruling by Present Court</td>\n",
              "    </tr>\n",
              "    <tr>\n",
              "      <th>9374</th>\n",
              "      <td>9374</td>\n",
              "      <td>Hence,this appeal has no merit which is accord...</td>\n",
              "      <td>2015_S_368.txt</td>\n",
              "      <td>Ruling by Present Court</td>\n",
              "    </tr>\n",
              "    <tr>\n",
              "      <th>9375</th>\n",
              "      <td>9375</td>\n",
              "      <td>Before parting with the order,we must make it ...</td>\n",
              "      <td>2015_S_368.txt</td>\n",
              "      <td>Ruling by Present Court</td>\n",
              "    </tr>\n",
              "    <tr>\n",
              "      <th>9376</th>\n",
              "      <td>9376</td>\n",
              "      <td>The parties may prosecute their remedies in Ci...</td>\n",
              "      <td>2015_S_368.txt</td>\n",
              "      <td>Ruling by Present Court</td>\n",
              "    </tr>\n",
              "    <tr>\n",
              "      <th>9377</th>\n",
              "      <td>9377</td>\n",
              "      <td>Petition dismissed</td>\n",
              "      <td>2015_S_368.txt</td>\n",
              "      <td>Ruling by Present Court</td>\n",
              "    </tr>\n",
              "  </tbody>\n",
              "</table>\n",
              "<p>9378 rows × 4 columns</p>\n",
              "</div>"
            ],
            "text/plain": [
              "      Unnamed: 0  ...                    Class\n",
              "0              0  ...                    Facts\n",
              "1              1  ...                    Facts\n",
              "2              2  ...                    Facts\n",
              "3              3  ...                    Facts\n",
              "4              4  ...                    Facts\n",
              "...          ...  ...                      ...\n",
              "9373        9373  ...  Ruling by Present Court\n",
              "9374        9374  ...  Ruling by Present Court\n",
              "9375        9375  ...  Ruling by Present Court\n",
              "9376        9376  ...  Ruling by Present Court\n",
              "9377        9377  ...  Ruling by Present Court\n",
              "\n",
              "[9378 rows x 4 columns]"
            ]
          },
          "metadata": {
            "tags": []
          },
          "execution_count": 6
        }
      ]
    },
    {
      "cell_type": "code",
      "metadata": {
        "id": "Bc_Q1CpKfceG",
        "colab_type": "code",
        "outputId": "d774d1d6-6295-4c42-a6ee-dc85f54b8b22",
        "colab": {
          "base_uri": "https://localhost:8080/",
          "height": 1000
        }
      },
      "source": [
        "for filename in os.listdir():\n",
        "  with io.open('./'+filename,\"r\") as f:\n",
        "    fi = f.read()\n",
        "  l = fi.split('\\n')\n",
        "  print(filename)\n",
        "  print(len(l))\n",
        "  c = list(df[df['filename'] == filename]['Class'])\n",
        "  print(len(c))\n",
        "  for i in range(len(l)-1):\n",
        "    l[i] = l[i]+'\\t'+c[i]\n",
        "  x = \"\\n\".join(l)\n",
        "  with open('./'+filename,\"r+\") as f:\n",
        "    f.truncate(0)\n",
        "    f.write(x)"
      ],
      "execution_count": 0,
      "outputs": [
        {
          "output_type": "stream",
          "text": [
            "1954_M_25.txt\n",
            "131\n",
            "130\n",
            "1996_T_169.txt\n",
            "121\n",
            "120\n",
            "1971_S_1.txt\n",
            "237\n",
            "236\n",
            "1978_M_13.txt\n",
            "80\n",
            "79\n",
            "1976_T_9.txt\n",
            "157\n",
            "156\n",
            "1994_M_69.txt\n",
            "135\n",
            "134\n",
            "1977_P_19.txt\n",
            "96\n",
            "95\n",
            "1987_C_108.txt\n",
            "472\n",
            "471\n",
            "1980_W_3.txt\n",
            "206\n",
            "205\n",
            "1963_S_59.txt\n",
            "659\n",
            "658\n",
            "1994_S_246.txt\n",
            "162\n",
            "161\n",
            "1973_S_68.txt\n",
            "148\n",
            "147\n",
            "1989_A_55.txt\n",
            "127\n",
            "126\n",
            "1996_B_72.txt\n",
            "99\n",
            "98\n",
            "1953_S_23.txt\n",
            "152\n",
            "151\n",
            "1987_M_123.txt\n",
            "168\n",
            "167\n",
            "1953_L_1.txt\n",
            "181\n",
            "180\n",
            "1987_S_26.txt\n",
            "215\n",
            "214\n",
            "1995_S_317.txt\n",
            "168\n",
            "167\n",
            "2005_S_388.txt\n",
            "116\n",
            "115\n",
            "2014_R_41.txt\n",
            "175\n",
            "174\n",
            "2008_C_166.txt\n",
            "160\n",
            "159\n",
            "2000_V_80.txt\n",
            "114\n",
            "113\n",
            "2014_J_33.txt\n",
            "174\n",
            "173\n",
            "2007_C_121.txt\n",
            "250\n",
            "249\n",
            "2008_S_549.txt\n",
            "103\n",
            "102\n",
            "2006_A_36.txt\n",
            "164\n",
            "163\n",
            "2011_I_16.txt\n",
            "253\n",
            "252\n",
            "2001_S_1131.txt\n",
            "174\n",
            "173\n",
            "2007_B_76.txt\n",
            "128\n",
            "127\n",
            "2010_S_431.txt\n",
            "134\n",
            "133\n",
            "2015_J_10.txt\n",
            "141\n",
            "140\n",
            "2006_A_136.txt\n",
            "429\n",
            "428\n",
            "2007_S_632.txt\n",
            "175\n",
            "174\n",
            "2001_A_234.txt\n",
            "170\n",
            "169\n",
            "2004_C_129.txt\n",
            "200\n",
            "199\n",
            "2008_A_260.txt\n",
            "153\n",
            "152\n",
            "2009_S_146.txt\n",
            "323\n",
            "322\n",
            "2008_I_54.txt\n",
            "147\n",
            "146\n",
            "2004_I_24.txt\n",
            "272\n",
            "271\n",
            "2008_P_8.txt\n",
            "235\n",
            "234\n"
          ],
          "name": "stdout"
        }
      ]
    },
    {
      "cell_type": "code",
      "metadata": {
        "id": "8vFGs9hvcxh3",
        "colab_type": "code",
        "colab": {}
      },
      "source": [
        ""
      ],
      "execution_count": 0,
      "outputs": []
    }
  ]
}